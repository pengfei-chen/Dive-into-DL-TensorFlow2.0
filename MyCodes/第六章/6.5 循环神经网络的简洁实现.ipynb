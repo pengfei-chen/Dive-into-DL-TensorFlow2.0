{
 "cells": [
  {
   "cell_type": "markdown",
   "id": "promotional-catalog",
   "metadata": {},
   "source": [
    "本节将使用Keras来更简洁地实现基于循环神经网络的语言模型。首先，我们读取周杰伦专辑歌词数据集。"
   ]
  },
  {
   "cell_type": "code",
   "execution_count": 1,
   "id": "judicial-daniel",
   "metadata": {},
   "outputs": [],
   "source": [
    "import tensorflow as tf\n",
    "from tensorflow import keras\n",
    "from tensorflow.keras import backend as f\n",
    "import numpy as np\n",
    "import math\n",
    "import sys\n",
    "import time\n",
    "sys.path.append(\"..\") \n",
    "import d2lzh_tensorflow2 as d2l\n",
    "\n",
    "(corpus_indices, char_to_idx, idx_to_char, vocab_size) = d2l.load_data_jay_lyrics()"
   ]
  },
  {
   "cell_type": "markdown",
   "id": "indoor-jamaica",
   "metadata": {},
   "source": [
    "## 6.5.1 定义模型\n",
    "\n",
    "Keras的`Rnn`模块提供了循环神经网络的实现。下面构造一个含**单隐藏层**、**隐藏单元个数为256**的循环神经网络层`rnn_layer`，并对权重做初始化。"
   ]
  },
  {
   "cell_type": "code",
   "execution_count": 3,
   "id": "moving-highway",
   "metadata": {},
   "outputs": [],
   "source": [
    "num_hiddens = 256\n",
    "cell = keras.layers.SimpleRNNCell(num_hiddens,kernel_initializer='glorot_uniform')\n",
    "rnn_layer = keras.layers.RNN(cell, time_major=True, return_sequences=True, return_state=True)"
   ]
  },
  {
   "cell_type": "markdown",
   "id": "french-adolescent",
   "metadata": {},
   "source": [
    "与上一节中实现的循环神经网络不同，这里`rnn_layer`的输入形状为(时间步数, 批量大小, 输入个数)。其中输入个数即one-hot向量长度（词典大小）。此外，`rnn_layer`作为`nn.RNN`实例，在前向计算后会分别返回输出和隐藏状态h，其中输出指的是隐藏层在**各个时间步**上计算并输出的隐藏状态，它们通常作为后续输出层的输入。需要强调的是，该“输出”本身并不涉及输出层计算，形状为(时间步数, 批量大小, 隐藏单元个数)。而`nn.RNN`实例在前向计算返回的隐藏状态指的是隐藏层在**最后时间步**的隐藏状态：当隐藏层有多层时，每一层的隐藏状态都会记录在该变量中；对于像**长短期记忆**（LSTM），隐藏状态是一个元组(h, c)，即hidden state和cell state。我们会在本章的后面介绍长短期记忆和深度循环神经网络。关于循环神经网络（以LSTM为例）的输出，可以参考下图（[图片来源](https://stackoverflow.com/questions/48302810/whats-the-difference-between-hidden-and-output-in-pytorch-lstm/48305882)）。\n",
    "\n",
    "<div align=center>\n",
    "<img width=\"500\" src=\"../img/chapter06/6.5.png\"/>\n",
    "</div>\n",
    "<div align=center>循环神经网络（以LSTM为例）的输出</div>\n",
    "\n",
    "来看看我们的例子，输出形状为(时间步数, 批量大小, 隐藏单元个数)，隐藏状态h的形状为(层数, 批量大小, 隐藏单元个数)。"
   ]
  },
  {
   "cell_type": "code",
   "execution_count": 4,
   "id": "constant-dylan",
   "metadata": {},
   "outputs": [
    {
     "data": {
      "text/plain": [
       "(TensorShape([35, 2, 256]), 2, TensorShape([256]))"
      ]
     },
     "execution_count": 4,
     "metadata": {},
     "output_type": "execute_result"
    }
   ],
   "source": [
    "batch_size = 2\n",
    "state = cell.get_initial_state(batch_size=batch_size, dtype=tf.float32)\n",
    "\n",
    "num_steps = 35\n",
    "X = tf.random.uniform(shape=(num_steps, batch_size, vocab_size))\n",
    "Y, state_new = rnn_layer(X, state)\n",
    "Y.shape, len(state_new), state_new[0].shape"
   ]
  },
  {
   "cell_type": "code",
   "execution_count": 5,
   "id": "fourth-firmware",
   "metadata": {},
   "outputs": [
    {
     "data": {
      "text/plain": [
       "TensorShape([2, 256])"
      ]
     },
     "execution_count": 5,
     "metadata": {},
     "output_type": "execute_result"
    }
   ],
   "source": [
    "state_new.shape   # 隐藏层输出一直是 n * h"
   ]
  },
  {
   "cell_type": "code",
   "execution_count": 7,
   "id": "posted-alexander",
   "metadata": {},
   "outputs": [],
   "source": [
    "# state_new"
   ]
  },
  {
   "cell_type": "markdown",
   "id": "catholic-broadcasting",
   "metadata": {},
   "source": [
    "> 如果`rnn_layer`是`nn.LSTM`实例，那么上面的输出是什么？\n",
    "\n",
    "接下来我们继承`Module`类来定义一个完整的循环神经网络。它首先将输入数据使用one-hot向量表示后输入到`rnn_layer`中，然后使用全连接输出层得到输出。输出个数等于词典大小`vocab_size`。"
   ]
  },
  {
   "cell_type": "code",
   "execution_count": 8,
   "id": "imperial-superintendent",
   "metadata": {},
   "outputs": [],
   "source": [
    "# 本类已保存在d2lzh包中方便以后使用\n",
    "class RNNModel(keras.layers.Layer):\n",
    "    def __init__(self, rnn_layer, vocab_size, **kwargs):\n",
    "        super(RNNModel,self).__init__(**kwargs)\n",
    "        self.rnn = rnn_layer\n",
    "        self.vocab_size = vocab_size\n",
    "        self.dense = keras.layers.Dense(vocab_size)\n",
    "        \n",
    "    def call(self, inputs, state):\n",
    "        # 将输入装置成（num_steps, batch_size) 后获取one-hot向量表示\n",
    "        X = tf.one_hot(tf.transpose(inputs),self.vocab_size)\n",
    "        Y, state = self.rnn(X, state)\n",
    "        # 全连接层会首先将Y的形状变成(num_steps * batch_size, num_hiddens)，它的输出\n",
    "        # 形状为(num_steps * batch_size, vocab_size)  # 一句话有多长 * 每个批量有多少句话，  onehot向量的长度。\n",
    "        output = self.dense(tf.reshape(Y,(-1, Y.shape[-1])))\n",
    "        return output, state\n",
    "    \n",
    "    def get_initial_state(self, *args, **kwargs):\n",
    "        return self.rnn.cell.get_initial_state(*args, **kwargs)"
   ]
  },
  {
   "cell_type": "markdown",
   "id": "inner-behalf",
   "metadata": {},
   "source": [
    "## 6.5.2 训练模型\n",
    "\n",
    "同上一节一样，下面定义一个预测函数。这里的实现区别在于**前向计算**和**初始化隐藏状态的函数接口**。"
   ]
  },
  {
   "cell_type": "code",
   "execution_count": 9,
   "id": "interracial-venue",
   "metadata": {},
   "outputs": [],
   "source": [
    "# 本函数已保存在d2lzh包中方便以后使用\n",
    "def predict_rnn_keras(prefix, num_chars, model, vocab_size, idx_to_char,\n",
    "                      char_to_idx):\n",
    "    # 使用model的成员函数来初始化隐藏状态\n",
    "    state = model.get_initial_state(batch_size=1,dtype=tf.float32)\n",
    "    output = [char_to_idx[prefix[0]]]\n",
    "    #print(\"output:\",output)\n",
    "    for t in range(num_chars + len(prefix) - 1):\n",
    "        X = np.array([output[-1]]).reshape((1, 1))\n",
    "        #print(\"X\",X)\n",
    "        Y, state = model(X, state)  # 前向计算不需要传入模型参数\n",
    "        #print(\"Y\",Y)\n",
    "        #print(\"state:\",state)\n",
    "        if t < len(prefix) - 1:\n",
    "            output.append(char_to_idx[prefix[t + 1]])\n",
    "            #print(char_to_idx[prefix[t + 1]])\n",
    "        else:\n",
    "            output.append(int(np.array(tf.argmax(Y,axis=-1))))\n",
    "            #print(int(np.array(tf.argmax(Y[0],axis=-1))))\n",
    "    return ''.join([idx_to_char[i] for i in output])"
   ]
  },
  {
   "cell_type": "markdown",
   "id": "split-identifier",
   "metadata": {},
   "source": [
    "让我们使用权重为随机值的模型来预测一次。"
   ]
  },
  {
   "cell_type": "code",
   "execution_count": 10,
   "id": "written-sight",
   "metadata": {},
   "outputs": [
    {
     "data": {
      "text/plain": [
       "'分开他揍枯是在瘦者许防逅'"
      ]
     },
     "execution_count": 10,
     "metadata": {},
     "output_type": "execute_result"
    }
   ],
   "source": [
    "model = RNNModel(rnn_layer, vocab_size)\n",
    "predict_rnn_keras('分开', 10, model, vocab_size,  idx_to_char, char_to_idx)"
   ]
  },
  {
   "cell_type": "markdown",
   "id": "convenient-night",
   "metadata": {},
   "source": [
    "接下来实现训练函数。算法同上一节的一样，但**这里只使用了相邻采样来读取数据**。"
   ]
  },
  {
   "cell_type": "code",
   "execution_count": 11,
   "id": "civil-attempt",
   "metadata": {},
   "outputs": [],
   "source": [
    "# 本函数已保存在d2lzh包中方便以后使用\n",
    "# 计算裁剪后的梯度\n",
    "def grad_clipping(grads,theta):\n",
    "    norm = np.array([0])\n",
    "    for i in range(len(grads)):\n",
    "        norm+=tf.math.reduce_sum(grads[i] ** 2)\n",
    "    #print(\"norm\",norm)\n",
    "    norm = np.sqrt(norm).item()\n",
    "    new_gradient=[]\n",
    "    if norm > theta:\n",
    "        for grad in grads:\n",
    "            new_gradient.append(grad * theta / norm)\n",
    "    else:\n",
    "        for grad in grads:\n",
    "            new_gradient.append(grad)  \n",
    "    #print(\"new_gradient\",new_gradient)\n",
    "    return new_gradient\n",
    "  \n",
    "# 本函数已保存在d2lzh包中方便以后使用\n",
    "def train_and_predict_rnn_keras(model, num_hiddens, vocab_size, \n",
    "                                corpus_indices, idx_to_char, char_to_idx,\n",
    "                                num_epochs, num_steps, lr, clipping_theta,\n",
    "                                batch_size, pred_period, pred_len, prefixes):\n",
    "    loss = tf.keras.losses.SparseCategoricalCrossentropy()\n",
    "    optimizer=tf.keras.optimizers.SGD(learning_rate=lr)\n",
    "    \n",
    "    for epoch in range(num_epochs):\n",
    "        l_sum, n, start = 0.0, 0, time.time()\n",
    "        data_iter = d2l.data_iter_consecutive(\n",
    "            corpus_indices, batch_size, num_steps)\n",
    "        state = model.get_initial_state(batch_size=batch_size,dtype=tf.float32)\n",
    "        for X, Y in data_iter:\n",
    "            with tf.GradientTape(persistent=True) as tape:\n",
    "                (outputs, state) = model(X, state)\n",
    "                y = Y.T.reshape((-1,))\n",
    "                l = loss(y,outputs)\n",
    "            \n",
    "            grads = tape.gradient(l, model.variables)\n",
    "            # 梯度裁剪\n",
    "            grads=grad_clipping(grads, clipping_theta)\n",
    "            optimizer.apply_gradients(zip(grads, model.variables))  # 因为已经误差取过均值，梯度不用再做平均\n",
    "            l_sum += np.array(l).item() * len(y)\n",
    "            n += len(y)\n",
    "\n",
    "        if (epoch + 1) % pred_period == 0:\n",
    "            print('epoch %d, perplexity %f, time %.2f sec' % (\n",
    "                epoch + 1, math.exp(l_sum / n), time.time() - start))\n",
    "            for prefix in prefixes:\n",
    "                print(' -', predict_rnn_keras(\n",
    "                    prefix, pred_len, model, vocab_size,  idx_to_char,\n",
    "                    char_to_idx))"
   ]
  },
  {
   "cell_type": "markdown",
   "id": "immediate-bicycle",
   "metadata": {},
   "source": [
    "使用和上一节实验中一样的超参数（除了学习率）来训练模型。"
   ]
  },
  {
   "cell_type": "code",
   "execution_count": 13,
   "id": "broken-woman",
   "metadata": {
    "scrolled": true
   },
   "outputs": [
    {
     "name": "stdout",
     "output_type": "stream",
     "text": [
      "epoch 50, perplexity 2117474.671810, time 0.49 sec\n",
      " - 分开                                                  \n",
      " - 不分开                                                  \n",
      "epoch 100, perplexity 2117474.671810, time 0.47 sec\n",
      " - 分开                                                  \n",
      " - 不分开                                                  \n",
      "epoch 150, perplexity 2117474.671810, time 0.48 sec\n",
      " - 分开                                                  \n",
      " - 不分开                                                  \n",
      "epoch 200, perplexity 2117474.671810, time 0.52 sec\n",
      " - 分开                                                  \n",
      " - 不分开                                                  \n",
      "epoch 250, perplexity 2117474.671810, time 0.54 sec\n",
      " - 分开                                                  \n",
      " - 不分开                                                  \n"
     ]
    }
   ],
   "source": [
    "num_epochs, batch_size, lr, clipping_theta = 250, 32, 1e2, 1e-2\n",
    "pred_period, pred_len, prefixes = 50, 50, ['分开', '不分开']\n",
    "train_and_predict_rnn_keras(model, num_hiddens, vocab_size, \n",
    "                            corpus_indices, idx_to_char, char_to_idx,\n",
    "                            num_epochs, num_steps, lr, clipping_theta,\n",
    "                            batch_size, pred_period, pred_len, prefixes)"
   ]
  },
  {
   "cell_type": "markdown",
   "id": "flexible-animal",
   "metadata": {},
   "source": [
    "**和给出的文档中的输出，差太远了。**"
   ]
  },
  {
   "cell_type": "markdown",
   "id": "funky-dealer",
   "metadata": {},
   "source": [
    "## 小结\n",
    "\n",
    "* Keras的`layers`模块提供了循环神经网络层的实现。\n",
    "* Keras的`layers.RNN`实例在前向计算后会分别返回输出和隐藏状态。该前向计算并不涉及输出层计算。\n",
    "\n",
    "-----------\n",
    "\n",
    "> 注：除代码外本节与原书此节基本相同，[原书传送门](https://zh.d2l.ai/chapter_recurrent-neural-networks/rnn-gluon.html)\n",
    "\n"
   ]
  },
  {
   "cell_type": "code",
   "execution_count": null,
   "id": "limited-monster",
   "metadata": {},
   "outputs": [],
   "source": []
  }
 ],
 "metadata": {
  "kernelspec": {
   "display_name": "Python 3",
   "language": "python",
   "name": "python3"
  },
  "language_info": {
   "codemirror_mode": {
    "name": "ipython",
    "version": 3
   },
   "file_extension": ".py",
   "mimetype": "text/x-python",
   "name": "python",
   "nbconvert_exporter": "python",
   "pygments_lexer": "ipython3",
   "version": "3.8.8"
  }
 },
 "nbformat": 4,
 "nbformat_minor": 5
}
