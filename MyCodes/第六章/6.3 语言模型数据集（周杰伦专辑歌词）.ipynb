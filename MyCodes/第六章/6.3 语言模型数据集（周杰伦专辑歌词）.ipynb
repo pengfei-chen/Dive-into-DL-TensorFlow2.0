{
 "cells": [
  {
   "cell_type": "markdown",
   "id": "infrared-destruction",
   "metadata": {},
   "source": [
    "本节将介绍如何预处理一个语言模型数据集，并将其转换成**字符级循环神经网络**所需要的输入格式。为此，我们收集了周杰伦从第一张专辑《Jay》到第十张专辑《跨时代》中的歌词，并在后面几节里应用循环神经网络来训练一个语言模型。当模型训练好后，我们就可以用这个模型来**创作歌词**。"
   ]
  },
  {
   "cell_type": "markdown",
   "id": "cubic-arnold",
   "metadata": {},
   "source": [
    "## 6.3.1 读取数据集\n",
    "\n",
    "首先读取这个数据集，看看前40个字符是什么样的。"
   ]
  },
  {
   "cell_type": "code",
   "execution_count": 1,
   "id": "developing-courtesy",
   "metadata": {},
   "outputs": [
    {
     "data": {
      "text/plain": [
       "'想要有直升机\\n想要和你飞到宇宙去\\n想要和你融化在一起\\n融化在宇宙里\\n我每天每天每'"
      ]
     },
     "execution_count": 1,
     "metadata": {},
     "output_type": "execute_result"
    }
   ],
   "source": [
    "import tensorflow as tf\n",
    "import random\n",
    "import zipfile\n",
    "\n",
    "with zipfile.ZipFile('../../data/jaychou_lyrics.txt.zip') as zin:\n",
    "    with zin.open('jaychou_lyrics.txt') as f:\n",
    "        corpus_chars = f.read().decode('utf-8')\n",
    "corpus_chars[:40]"
   ]
  },
  {
   "cell_type": "markdown",
   "id": "caring-weather",
   "metadata": {},
   "source": [
    "这个数据集有6万多个字符。为了打印方便，我们把换行符替换成空格，然后仅使用前1万个字符来训练模型。"
   ]
  },
  {
   "cell_type": "code",
   "execution_count": 9,
   "id": "future-cement",
   "metadata": {},
   "outputs": [],
   "source": [
    "corpus_chars = corpus_chars.replace('\\n', ' ').replace('\\r', ' ')\n",
    "corpus_chars = corpus_chars[0:10000]"
   ]
  },
  {
   "cell_type": "markdown",
   "id": "heard-absolute",
   "metadata": {},
   "source": [
    "## 6.3.2 建立字符索引\n",
    "\n",
    "我们将每个字符映射成一个从0开始的连续整数，又称索引，来方便之后的数据处理。为了得到索引，我们**将数据集里所有不同字符取出来**，然后将其逐一映射到索引来构造词典。接着，打印`vocab_size`，即词典中不同字符的个数，又称词典大小。"
   ]
  },
  {
   "cell_type": "code",
   "execution_count": 10,
   "id": "stuck-relative",
   "metadata": {},
   "outputs": [
    {
     "data": {
      "text/plain": [
       "1027"
      ]
     },
     "execution_count": 10,
     "metadata": {},
     "output_type": "execute_result"
    }
   ],
   "source": [
    "idx_to_char = list(set(corpus_chars))\n",
    "char_to_idx = dict([(char,i) for i,char in enumerate(idx_to_char)])\n",
    "vocab_size = len(char_to_idx)\n",
    "vocab_size"
   ]
  },
  {
   "cell_type": "markdown",
   "id": "expected-vermont",
   "metadata": {},
   "source": [
    "之后，将训练数据集中每个字符转化为索引，并打印前20个字符及其对应的索引。"
   ]
  },
  {
   "cell_type": "code",
   "execution_count": 11,
   "id": "fifth-edmonton",
   "metadata": {},
   "outputs": [
    {
     "name": "stdout",
     "output_type": "stream",
     "text": [
      "chars: 想要有直升机 想要和你飞到宇宙去 想要和\n",
      "indices: [469, 829, 870, 591, 711, 669, 31, 469, 829, 318, 746, 296, 873, 820, 996, 572, 31, 469, 829, 318]\n"
     ]
    }
   ],
   "source": [
    "corpus_indices = [char_to_idx[char] for char in corpus_chars]\n",
    "sample = corpus_indices[:20]\n",
    "print('chars:', ''.join([idx_to_char[idx] for idx in sample]))  # 根据索引找到，其原来对应的 字符串\n",
    "print('indices:', sample) "
   ]
  },
  {
   "cell_type": "markdown",
   "id": "latest-shoulder",
   "metadata": {},
   "source": [
    "**很好的想法。**"
   ]
  },
  {
   "cell_type": "markdown",
   "id": "affiliated-rebecca",
   "metadata": {},
   "source": [
    "我们将以上代码封装在`d2lzh_tensorflow2`包里的`load_data_jay_lyrics`函数中，以方便后面章节调用。调用该函数后会依次得到`corpus_indices`、`char_to_idx`、`idx_to_char`和`vocab_size`这4个变量。"
   ]
  },
  {
   "cell_type": "code",
   "execution_count": null,
   "id": "refined-measurement",
   "metadata": {},
   "outputs": [],
   "source": []
  }
 ],
 "metadata": {
  "kernelspec": {
   "display_name": "Python 3",
   "language": "python",
   "name": "python3"
  },
  "language_info": {
   "codemirror_mode": {
    "name": "ipython",
    "version": 3
   },
   "file_extension": ".py",
   "mimetype": "text/x-python",
   "name": "python",
   "nbconvert_exporter": "python",
   "pygments_lexer": "ipython3",
   "version": "3.8.8"
  }
 },
 "nbformat": 4,
 "nbformat_minor": 5
}
